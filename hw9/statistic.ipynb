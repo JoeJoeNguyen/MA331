{
 "cells": [
  {
   "cell_type": "code",
   "execution_count": 1,
   "id": "initial_id",
   "metadata": {
    "jupyter": {
     "is_executing": true
    }
   },
   "outputs": [],
   "source": [
    "data = [-1.28, -1.22, -0.45, -0.35, 0.72, -0.32, -0.8, -1.66, 1.39, 0.38,\n",
    "-1.38, -1.26, 0.49, -0.14, -0.85, 2.33, -0.34, -1.96, -0.64, -1.32, -1.14, 0.64,\n",
    "3.44, -1.67, 0.85, 0.41, -0.01, 0.67, -1.13, -0.41, -0.49, 0.36, -1.24, -0.04,\n",
    "-0.11, 1.05, 0.04, 0.76, 0.61, -2.04, 0.35, 2.82, -0.46, -0.63, -1.61, 0.64, 0.56,\n",
    "-0.11, 0.13, -1.81]\n"
   ]
  },
  {
   "cell_type": "code",
   "execution_count": 3,
   "id": "7e0e6210730c7def",
   "metadata": {
    "ExecuteTime": {
     "end_time": "2024-05-11T03:58:44.093982Z",
     "start_time": "2024-05-11T03:58:44.083917Z"
    }
   },
   "outputs": [
    {
     "ename": "NameError",
     "evalue": "name 'data' is not defined",
     "output_type": "error",
     "traceback": [
      "\u001b[0;31m---------------------------------------------------------------------------\u001b[0m",
      "\u001b[0;31mNameError\u001b[0m                                 Traceback (most recent call last)",
      "Cell \u001b[0;32mIn[3], line 1\u001b[0m\n\u001b[0;32m----> 1\u001b[0m \u001b[38;5;28mprint\u001b[39m(\u001b[38;5;28mlen\u001b[39m(\u001b[43mdata\u001b[49m))\n",
      "\u001b[0;31mNameError\u001b[0m: name 'data' is not defined"
     ]
    }
   ],
   "source": []
  },
  {
   "cell_type": "code",
   "execution_count": 4,
   "id": "58fe3b1346e38338",
   "metadata": {
    "ExecuteTime": {
     "end_time": "2024-05-11T03:58:53.251589Z",
     "start_time": "2024-05-11T03:58:53.247779Z"
    }
   },
   "outputs": [],
   "source": [
    "data = [-1.28, -1.22, -0.45, -0.35, 0.72, -0.32, -0.8, -1.66, 1.39, 0.38,\n",
    "-1.38, -1.26, 0.49, -0.14, -0.85, 2.33, -0.34, -1.96, -0.64, -1.32, -1.14, 0.64,\n",
    "3.44, -1.67, 0.85, 0.41, -0.01, 0.67, -1.13, -0.41, -0.49, 0.36, -1.24, -0.04,\n",
    "-0.11, 1.05, 0.04, 0.76, 0.61, -2.04, 0.35, 2.82, -0.46, -0.63, -1.61, 0.64, 0.56,\n",
    "-0.11, 0.13, -1.81]"
   ]
  },
  {
   "cell_type": "code",
   "execution_count": 5,
   "id": "def8db97dd22de52",
   "metadata": {
    "ExecuteTime": {
     "end_time": "2024-05-11T03:59:06.634759Z",
     "start_time": "2024-05-11T03:59:06.630790Z"
    }
   },
   "outputs": [
    {
     "name": "stdout",
     "output_type": "stream",
     "text": [
      "50\n"
     ]
    }
   ],
   "source": [
    "print(len(data))\n"
   ]
  },
  {
   "cell_type": "code",
   "execution_count": 6,
   "id": "b3240c39b39a4928",
   "metadata": {
    "ExecuteTime": {
     "end_time": "2024-05-11T04:10:04.755436Z",
     "start_time": "2024-05-11T04:10:04.753139Z"
    }
   },
   "outputs": [
    {
     "name": "stdout",
     "output_type": "stream",
     "text": [
      "15\n"
     ]
    }
   ],
   "source": [
    "count = len([i for i in data if i <= -0.84])\n",
    "print(count)\n"
   ]
  },
  {
   "cell_type": "code",
   "execution_count": 7,
   "id": "b129fd5d09621eaa",
   "metadata": {
    "ExecuteTime": {
     "end_time": "2024-05-11T04:11:27.795907Z",
     "start_time": "2024-05-11T04:11:27.791882Z"
    }
   },
   "outputs": [
    {
     "name": "stdout",
     "output_type": "stream",
     "text": [
      "[-1.28, -1.22, -1.66, -1.38, -1.26, -0.85, -1.96, -1.32, -1.14, -1.67, -1.13, -1.24, -2.04, -1.61, -1.81]\n"
     ]
    }
   ],
   "source": [
    "numbers = [i for i in data if i <= -0.84]\n",
    "\n",
    "# Print the list\n",
    "print(numbers)\n"
   ]
  },
  {
   "cell_type": "code",
   "execution_count": 8,
   "id": "9c1a5492c50ce2f6",
   "metadata": {
    "ExecuteTime": {
     "end_time": "2024-05-11T04:12:31.069088Z",
     "start_time": "2024-05-11T04:12:31.066700Z"
    }
   },
   "outputs": [
    {
     "name": "stdout",
     "output_type": "stream",
     "text": [
      "[-0.45, -0.35, -0.32, -0.8, -0.34, -0.64, -0.41, -0.49, -0.46, -0.63]\n"
     ]
    }
   ],
   "source": [
    "numbers = [i for i in data if -0.84 < i <= -0.25]\n",
    "\n",
    "# Print the list\n",
    "print(numbers)\n"
   ]
  },
  {
   "cell_type": "code",
   "execution_count": 9,
   "id": "db9002f202f9fdf2",
   "metadata": {
    "ExecuteTime": {
     "end_time": "2024-05-11T04:13:13.525194Z",
     "start_time": "2024-05-11T04:13:13.521189Z"
    }
   },
   "outputs": [
    {
     "name": "stdout",
     "output_type": "stream",
     "text": [
      "[-0.14, -0.01, -0.04, -0.11, 0.04, -0.11, 0.13]\n"
     ]
    }
   ],
   "source": [
    "numbers = [i for i in data if -0.25 < i <= 0.26]\n",
    "\n",
    "# Print the list\n",
    "print(numbers)"
   ]
  },
  {
   "cell_type": "code",
   "execution_count": 11,
   "id": "bf48c073e4e8286d",
   "metadata": {
    "ExecuteTime": {
     "end_time": "2024-05-11T04:14:27.729765Z",
     "start_time": "2024-05-11T04:14:27.727134Z"
    }
   },
   "outputs": [
    {
     "name": "stdout",
     "output_type": "stream",
     "text": [
      "12\n",
      "[0.72, 0.38, 0.49, 0.64, 0.41, 0.67, 0.36, 0.76, 0.61, 0.35, 0.64, 0.56]\n"
     ]
    }
   ],
   "source": [
    "numbers = [i for i in data if 0.26 < i <= 0.84]\n",
    "print(len(numbers))\n",
    "# Print the list\n",
    "print(numbers)"
   ]
  },
  {
   "cell_type": "code",
   "execution_count": 12,
   "id": "31df755bfdf64177",
   "metadata": {
    "ExecuteTime": {
     "end_time": "2024-05-11T04:14:53.664726Z",
     "start_time": "2024-05-11T04:14:53.660805Z"
    }
   },
   "outputs": [
    {
     "name": "stdout",
     "output_type": "stream",
     "text": [
      "6\n",
      "[1.39, 2.33, 3.44, 0.85, 1.05, 2.82]\n"
     ]
    }
   ],
   "source": [
    "numbers = [i for i in data if 0.84 < i ]\n",
    "print(len(numbers))\n",
    "# Print the list\n",
    "print(numbers)"
   ]
  },
  {
   "cell_type": "code",
   "execution_count": 13,
   "id": "60cf05cae8e3c45a",
   "metadata": {
    "ExecuteTime": {
     "end_time": "2024-05-11T04:22:30.429381Z",
     "start_time": "2024-05-11T04:22:30.421355Z"
    }
   },
   "outputs": [
    {
     "ename": "ModuleNotFoundError",
     "evalue": "No module named 'scipy'",
     "output_type": "error",
     "traceback": [
      "\u001b[0;31m---------------------------------------------------------------------------\u001b[0m",
      "\u001b[0;31mModuleNotFoundError\u001b[0m                       Traceback (most recent call last)",
      "Cell \u001b[0;32mIn[13], line 1\u001b[0m\n\u001b[0;32m----> 1\u001b[0m \u001b[38;5;28;01mimport\u001b[39;00m \u001b[38;5;21;01mscipy\u001b[39;00m\u001b[38;5;21;01m.\u001b[39;00m\u001b[38;5;21;01mstats\u001b[39;00m \u001b[38;5;28;01mas\u001b[39;00m \u001b[38;5;21;01mstats\u001b[39;00m \n\u001b[1;32m      2\u001b[0m \u001b[38;5;28;01mimport\u001b[39;00m \u001b[38;5;21;01mnumpy\u001b[39;00m \u001b[38;5;28;01mas\u001b[39;00m \u001b[38;5;21;01mnp\u001b[39;00m \n",
      "\u001b[0;31mModuleNotFoundError\u001b[0m: No module named 'scipy'"
     ]
    }
   ],
   "source": [
    "import scipy.stats as stats \n",
    "import numpy as np "
   ]
  },
  {
   "cell_type": "code",
   "execution_count": 14,
   "id": "393b7ad353cffa82",
   "metadata": {
    "ExecuteTime": {
     "end_time": "2024-05-11T04:44:30.745273Z",
     "start_time": "2024-05-11T04:44:30.743235Z"
    }
   },
   "outputs": [],
   "source": [
    "od = [15, 10 , 7 , 12, 6]"
   ]
  },
  {
   "cell_type": "code",
   "execution_count": 17,
   "id": "c32851e6d155d643",
   "metadata": {
    "ExecuteTime": {
     "end_time": "2024-05-11T04:46:42.827020Z",
     "start_time": "2024-05-11T04:46:42.824941Z"
    }
   },
   "outputs": [],
   "source": [
    "ed = [10, 10, 10, 10, 10]"
   ]
  },
  {
   "cell_type": "code",
   "execution_count": 15,
   "id": "7417602c2e04e50b",
   "metadata": {
    "ExecuteTime": {
     "end_time": "2024-05-11T04:45:02.705553Z",
     "start_time": "2024-05-11T04:45:02.486666Z"
    }
   },
   "outputs": [],
   "source": [
    "import scipy.stats as stats \n",
    "import numpy as np "
   ]
  },
  {
   "cell_type": "code",
   "execution_count": 22,
   "id": "ab3c95301ac3eed3",
   "metadata": {
    "ExecuteTime": {
     "end_time": "2024-05-11T04:49:24.478596Z",
     "start_time": "2024-05-11T04:49:24.473711Z"
    }
   },
   "outputs": [
    {
     "name": "stdout",
     "output_type": "stream",
     "text": [
      "chi_square_test_statistic is : 5.4\n",
      "p_value : 0.24866039713707408\n",
      "9.487729036781154\n"
     ]
    }
   ],
   "source": [
    "chi_square_test_statistic, p_value = stats.chisquare( \n",
    "    od, ed)\n",
    "  \n",
    "# chi square test statistic and p value \n",
    "print('chi_square_test_statistic is : ' +\n",
    "      str(chi_square_test_statistic)) \n",
    "print('p_value : ' + str(p_value)) \n",
    "  \n",
    "  \n",
    "# find Chi-Square critical value \n",
    "print(stats.chi2.ppf(1-0.05, df=4))"
   ]
  },
  {
   "cell_type": "code",
   "execution_count": 24,
   "id": "dbf5ab6006c17ed5",
   "metadata": {
    "ExecuteTime": {
     "end_time": "2024-05-11T05:07:19.334226Z",
     "start_time": "2024-05-11T05:07:19.331868Z"
    }
   },
   "outputs": [
    {
     "name": "stdout",
     "output_type": "stream",
     "text": [
      "-1.2815515655446004\n"
     ]
    }
   ],
   "source": [
    "import scipy.stats as st \n",
    "print(st.norm.ppf(0.1))"
   ]
  },
  {
   "cell_type": "code",
   "execution_count": 25,
   "id": "cd289dfd8126ba4d",
   "metadata": {
    "ExecuteTime": {
     "end_time": "2024-05-11T05:08:28.064210Z",
     "start_time": "2024-05-11T05:08:28.060135Z"
    }
   },
   "outputs": [
    {
     "name": "stdout",
     "output_type": "stream",
     "text": [
      "-1.2815515655446004\n",
      "-0.8416212335729142\n",
      "-0.5244005127080409\n",
      "-0.2533471031357997\n",
      "0.0\n",
      "0.2533471031357997\n",
      "0.5244005127080407\n",
      "0.8416212335729143\n",
      "1.2815515655446004\n"
     ]
    }
   ],
   "source": [
    "import scipy.stats as st \n",
    "print(st.norm.ppf(0.1))\n",
    "print(st.norm.ppf(0.2))\n",
    "print(st.norm.ppf(0.3))\n",
    "print(st.norm.ppf(0.4))\n",
    "print(st.norm.ppf(0.5))\n",
    "print(st.norm.ppf(0.6))\n",
    "print(st.norm.ppf(0.7))\n",
    "print(st.norm.ppf(0.8))\n",
    "print(st.norm.ppf(0.9))"
   ]
  },
  {
   "cell_type": "code",
   "execution_count": 26,
   "id": "86b46e4dfbebfbb2",
   "metadata": {
    "ExecuteTime": {
     "end_time": "2024-05-11T05:17:56.744035Z",
     "start_time": "2024-05-11T05:17:56.738238Z"
    }
   },
   "outputs": [
    {
     "name": "stdout",
     "output_type": "stream",
     "text": [
      "9\n",
      "[-1.28, -1.66, -1.38, -1.96, -1.32, -1.67, -2.04, -1.61, -1.81]\n",
      "6\n",
      "[-1.22, -1.26, -0.85, -1.14, -1.13, -1.24]\n",
      "3\n",
      "[-0.8, -0.64, -0.63]\n",
      "7\n",
      "[-0.45, -0.35, -0.32, -0.34, -0.41, -0.49, -0.46]\n",
      "5\n",
      "[-0.14, -0.01, -0.04, -0.11, -0.11]\n",
      "2\n",
      "[0.04, 0.13]\n",
      "5\n",
      "[0.38, 0.49, 0.41, 0.36, 0.35]\n",
      "7\n",
      "[0.72, 0.64, 0.67, 0.76, 0.61, 0.64, 0.56]\n",
      "2\n",
      "[0.85, 1.05]\n",
      "4\n",
      "[1.39, 2.33, 3.44, 2.82]\n"
     ]
    }
   ],
   "source": [
    "numbers = [i for i in data if i <= -1.28]\n",
    "print(len(numbers))\n",
    "# Print the list\n",
    "print(numbers)\n",
    "numbers = [i for i in data if -1.28 < i <= -0.84]\n",
    "print(len(numbers))\n",
    "# Print the list\n",
    "print(numbers)\n",
    "numbers = [i for i in data if -0.84 < i <= -0.52]\n",
    "print(len(numbers))\n",
    "# Print the list\n",
    "print(numbers)\n",
    "numbers = [i for i in data if -0.52 < i <= -0.25]\n",
    "print(len(numbers))\n",
    "# Print the list\n",
    "print(numbers)\n",
    "numbers = [i for i in data if -0.25 < i <= 0]\n",
    "print(len(numbers))\n",
    "# Print the list\n",
    "print(numbers)\n",
    "numbers = [i for i in data if 0 < i <= 0.25]\n",
    "print(len(numbers))\n",
    "# Print the list\n",
    "print(numbers)\n",
    "numbers = [i for i in data if 0.25 < i <= 0.52]\n",
    "print(len(numbers))\n",
    "# Print the list\n",
    "print(numbers)\n",
    "numbers = [i for i in data if 0.52 < i <= 0.84]\n",
    "print(len(numbers))\n",
    "# Print the list\n",
    "print(numbers)\n",
    "numbers = [i for i in data if 0.84 < i <= 1.28]\n",
    "print(len(numbers))\n",
    "# Print the list\n",
    "print(numbers)\n",
    "numbers = [i for i in data if 1.28 < i]\n",
    "print(len(numbers))\n",
    "# Print the list\n",
    "print(numbers)\n"
   ]
  },
  {
   "cell_type": "code",
   "execution_count": 28,
   "id": "2eb613be25618b21",
   "metadata": {
    "ExecuteTime": {
     "end_time": "2024-05-11T05:23:33.106337Z",
     "start_time": "2024-05-11T05:23:33.100255Z"
    }
   },
   "outputs": [
    {
     "name": "stdout",
     "output_type": "stream",
     "text": [
      "chi_square_test_statistic is : 9.6\n",
      "p_value : 0.3838265173713841\n",
      "Critical Value:  16.918977604620448\n"
     ]
    }
   ],
   "source": [
    "# importing packages \n",
    "import scipy.stats as stats \n",
    "import numpy as np \n",
    "  \n",
    "# no of hours a student studies \n",
    "# in a week vs expected no of hours \n",
    "observed_data = [9,6,3,7,5,2,5,7,2,4] \n",
    "expected_data = [5,5,5,5,5,5,5,5,5,5] \n",
    "  \n",
    "  \n",
    "# Chi-Square Goodness of Fit Test \n",
    "chi_square_test_statistic, p_value = stats.chisquare( \n",
    "    observed_data, expected_data) \n",
    "  \n",
    "# chi square test statistic and p value \n",
    "print('chi_square_test_statistic is : ' +\n",
    "      str(chi_square_test_statistic)) \n",
    "print('p_value : ' + str(p_value)) \n",
    "  \n",
    "  \n",
    "# find Chi-Square critical value \n",
    "print(\"Critical Value: \",stats.chi2.ppf(1-0.05, df=9)) "
   ]
  },
  {
   "cell_type": "code",
   "execution_count": 29,
   "id": "2acb9bbd42086fc",
   "metadata": {
    "ExecuteTime": {
     "end_time": "2024-05-11T06:15:17.850977Z",
     "start_time": "2024-05-11T06:15:17.846288Z"
    }
   },
   "outputs": [
    {
     "name": "stdout",
     "output_type": "stream",
     "text": [
      "30\n",
      "30\n"
     ]
    }
   ],
   "source": [
    "y = [13.26, 14.15, 13.86, 14.81, 15.68, 15.64, 15.58, 15.67, 16.08, 16.36, 16.14, 16.68, 16.00, 15.66, 16.05, 16.22, 16.17, 16.03, 16.69, 15.83, 16.21, 16.13, 16.36, 16.42, 16.92, 16.65, 16.94, 17.47, 18.07, 17.52]\n",
    "print(len(y))\n",
    "x = [1.00, 1.13, 1.27, 1.41, 1.55, 1.68, 1.82, 1.96, 2.10, 2.24, 2.37, 2.51, 2.65,\n",
    "     2.79, 2.93, 3.06, 3.20, 3.34, 3.48, 3.62, 3.75, 3.89, 4.03, 4.17, 4.31, 4.44,\n",
    "     4.58, 4.72, 4.86, 5.00]\n",
    "print(len(x))"
   ]
  },
  {
   "cell_type": "code",
   "execution_count": 30,
   "id": "cca7ca59a101e998",
   "metadata": {
    "ExecuteTime": {
     "end_time": "2024-05-11T06:16:37.468119Z",
     "start_time": "2024-05-11T06:16:37.462458Z"
    }
   },
   "outputs": [
    {
     "name": "stdout",
     "output_type": "stream",
     "text": [
      "The equation of the least squares line is: y = 0.7029398624005555 * x + 13.93612746548954\n"
     ]
    }
   ],
   "source": [
    "#Problem 3\n",
    "#1. \n",
    "\n",
    "import numpy as np\n",
    "\n",
    "# Given lists x and y\n",
    "x = [1.00, 1.13, 1.27, 1.41, 1.55, 1.68, 1.82, 1.96, 2.10, 2.24, 2.37, 2.51, 2.65,\n",
    "     2.79, 2.93, 3.06, 3.20, 3.34, 3.48, 3.62, 3.75, 3.89, 4.03, 4.17, 4.31, 4.44,\n",
    "     4.58, 4.72, 4.86, 5.00]\n",
    "\n",
    "y = [13.26, 14.15, 13.86, 14.81, 15.68, 15.64, 15.58, 15.67, 16.08, 16.36, 16.14, 16.68, 16.00, 15.66, 16.05, 16.22, 16.17, 16.03, 16.69, 15.83, 16.21, 16.13, 16.36, 16.42, 16.92, 16.65, 16.94, 17.47, 18.07, 17.52]\n",
    "\n",
    "# Fit a line to the data\n",
    "coefficients = np.polyfit(x, y, 1)\n",
    "\n",
    "# The coefficients are returned in the order of highest degree to lowest, \n",
    "# so the slope of the line is the first element and the y-intercept is the second.\n",
    "slope, intercept = coefficients\n",
    "\n",
    "print(f\"The equation of the least squares line is: y = {slope} * x + {intercept}\")"
   ]
  },
  {
   "cell_type": "markdown",
   "id": "ab01afcd82142efb",
   "metadata": {},
   "source": []
  },
  {
   "cell_type": "code",
   "execution_count": 41,
   "id": "8efa7187fcfce441",
   "metadata": {
    "ExecuteTime": {
     "end_time": "2024-05-11T08:07:24.368038Z",
     "start_time": "2024-05-11T08:07:24.291834Z"
    }
   },
   "outputs": [
    {
     "name": "stdout",
     "output_type": "stream",
     "text": [
      "Coefficients (α1, α2): [ 0.70293986 13.93612747]\n"
     ]
    },
    {
     "data": {
      "image/png": "[encoded data removed]",
      "text/plain": [
       "<Figure size 640x480 with 1 Axes>"
      ]
     },
     "metadata": {},
     "output_type": "display_data"
    }
   ],
   "source": [
    "#Problem 3\n",
    "#2.\n",
    "import numpy as np\n",
    "import matplotlib.pyplot as plt\n",
    "\n",
    "\n",
    "# Given lists x and y\n",
    "# Convert lists x and y to numpy arrays\n",
    "x = np.array([1.00, 1.13, 1.27, 1.41, 1.55, 1.68, 1.82, 1.96, 2.10, 2.24, 2.37, 2.51, 2.65,\n",
    "     2.79, 2.93, 3.06, 3.20, 3.34, 3.48, 3.62, 3.75, 3.89, 4.03, 4.17, 4.31, 4.44,\n",
    "     4.58, 4.72, 4.86, 5.00])\n",
    "\n",
    "y = np.array([13.26, 14.15, 13.86, 14.81, 15.68, 15.64, 15.58, 15.67, 16.08, 16.36, 16.14, 16.68, 16.00, 15.66, 16.05, 16.22, 16.17, 16.03, 16.69, 15.83, 16.21, 16.13, 16.36, 16.42, 16.92, 16.65, 16.94, 17.47, 18.07, 17.52])\n",
    "\n",
    "\n",
    "# Assemble matrix A\n",
    "A = np.vstack([x, np.ones(len(x))]).T\n",
    "\n",
    "# Perform least squares regression\n",
    "alpha = np.dot(np.dot(np.linalg.inv(np.dot(A.T, A)), A.T), y)\n",
    "print(\"Coefficients (α1, α2):\", alpha)\n",
    "\n",
    "# Plot data points and regression line\n",
    "plt.scatter(x, y, label=\"Data points\")\n",
    "plt.plot(x, alpha[0] * x + alpha[1], color=\"red\", label=\"Least squares regression\")\n",
    "plt.xlabel(\"x\")\n",
    "plt.ylabel(\"y\")\n",
    "plt.title(\"Least Squares Regression\")\n",
    "plt.legend()\n",
    "plt.show()"
   ]
  },
  {
   "cell_type": "code",
   "execution_count": 39,
   "id": "51b7f90f9f8047dc",
   "metadata": {
    "ExecuteTime": {
     "end_time": "2024-05-11T08:03:32.884924Z",
     "start_time": "2024-05-11T08:03:32.823592Z"
    }
   },
   "outputs": [
    {
     "data": {
      "image/png": "[encoded data removed]",
      "text/plain": [
       "<Figure size 640x480 with 1 Axes>"
      ]
     },
     "metadata": {},
     "output_type": "display_data"
    }
   ],
   "source": [
    "\n",
    "#Problem 3\n",
    "#4.\n",
    "import matplotlib.pyplot as plt\n",
    "\n",
    "# Calculate the predicted values\n",
    "y_pred = alpha[0] * x + alpha[1]\n",
    "\n",
    "# Calculate the residuals\n",
    "residuals = y - y_pred\n",
    "\n",
    "# Create the residual plot\n",
    "plt.scatter(x, residuals)\n",
    "plt.axhline(0, color='red', linestyle='--')  # Add a horizontal line at y=0\n",
    "plt.xlabel('x')\n",
    "plt.ylabel('Residuals')\n",
    "plt.title('Residual Plot')\n",
    "plt.show()\n",
    "\n",
    "#model 1. is suitable"
   ]
  },
  {
   "cell_type": "code",
   "execution_count": 34,
   "id": "e8091a38faa75a9c",
   "metadata": {},
   "outputs": [
    {
     "name": "stdout",
     "output_type": "stream",
     "text": [
      "The 95% confidence intervals for the slope (β) are: [0.5269975559927793, 0.8788821688083326]\n"
     ]
    }
   ],
   "source": [
    "#Problem 3\n",
    "#3.\n",
    "\n",
    "import numpy as np\n",
    "import scipy.stats as stats\n",
    "\n",
    "# Given lists x and y\n",
    "x = np.array([1.00, 1.13, 1.27, 1.41, 1.55, 1.68, 1.82, 1.96, 2.10, 2.24, 2.37, 2.51, 2.65,\n",
    "     2.79, 2.93, 3.06, 3.20, 3.34, 3.48, 3.62, 3.75, 3.89, 4.03, 4.17, 4.31, 4.44,\n",
    "     4.58, 4.72, 4.86, 5.00])\n",
    "\n",
    "y = np.array([13.26, 14.15, 13.86, 14.81, 15.68, 15.64, 15.58, 15.67, 16.08, 16.36, 16.14, 16.68, 16.00, 15.66, 16.05, 16.22, 16.17, 16.03, 16.69, 15.83, 16.21, 16.13, 16.36, 16.42, 16.92, 16.65, 16.94, 17.47, 18.07, 17.52])\n",
    "\n",
    "# Perform linear regression\n",
    "slope, intercept, r_value, p_value, std_err = stats.linregress(x, y)\n",
    "\n",
    "# Calculate the t critical value for 95% confidence level\n",
    "t_critical = stats.t.ppf((1 + 0.95) / 2., len(x) - 2)\n",
    "\n",
    "# Calculate the confidence intervals for the slope\n",
    "confidence_interval = [slope - t_critical * std_err, slope + t_critical * std_err]\n",
    "\n",
    "print(f\"The 95% confidence intervals for the slope (β) are: {confidence_interval}\")"
   ]
  },
  {
   "cell_type": "code",
   "execution_count": 37,
   "id": "97d42464e1c79ac7",
   "metadata": {
    "ExecuteTime": {
     "end_time": "2024-05-11T08:02:22.785805Z",
     "start_time": "2024-05-11T08:02:22.641472Z"
    }
   },
   "outputs": [
    {
     "data": {
      "image/png": "[encoded data removed]",
      "text/plain": [
       "<Figure size 640x480 with 1 Axes>"
      ]
     },
     "metadata": {},
     "output_type": "display_data"
    },
    {
     "name": "stdout",
     "output_type": "stream",
     "text": [
      "R^2: 0.7051930538528302\n"
     ]
    }
   ],
   "source": [
    "\n",
    "#Problem 3\n",
    "#5.\n",
    "\n",
    "import numpy as np\n",
    "import matplotlib.pyplot as plt\n",
    "from sklearn.metrics import r2_score\n",
    "import scipy.stats as stats\n",
    "\n",
    "# Given lists x and y\n",
    "x = np.array([1.00, 1.13, 1.27, 1.41, 1.55, 1.68, 1.82, 1.96, 2.10, 2.24, 2.37, 2.51, 2.65,\n",
    "     2.79, 2.93, 3.06, 3.20, 3.34, 3.48, 3.62, 3.75, 3.89, 4.03, 4.17, 4.31, 4.44,\n",
    "     4.58, 4.72, 4.86, 5.00])\n",
    "\n",
    "y = np.array([13.26, 14.15, 13.86, 14.81, 15.68, 15.64, 15.58, 15.67, 16.08, 16.36, 16.14, 16.68, 16.00, 15.66, 16.05, 16.22, 16.17, 16.03, 16.69, 15.83, 16.21, 16.13, 16.36, 16.42, 16.92, 16.65, 16.94, 17.47, 18.07, 17.52])\n",
    "\n",
    "# Perform linear regression\n",
    "slope, intercept, r_value, p_value, std_err = stats.linregress(x, y)\n",
    "\n",
    "# Calculate the predicted values\n",
    "y_pred = slope * x + intercept\n",
    "\n",
    "# Calculate the residuals\n",
    "residuals = y - y_pred\n",
    "\n",
    "# Create the residual plot\n",
    "plt.scatter(x, residuals)\n",
    "plt.axhline(0, color='red', linestyle='--')  # Add a horizontal line at y=0\n",
    "plt.xlabel('x')\n",
    "plt.ylabel('Residuals')\n",
    "plt.title('Residual Plot')\n",
    "plt.show()\n",
    "\n",
    "# Calculate and print R^2\n",
    "r2 = r2_score(y, y_pred)\n",
    "print(f'R^2: {r2}')"
   ]
  },
  {
   "cell_type": "code",
   "execution_count": 46,
   "id": "4d6320b8986dba37",
   "metadata": {
    "ExecuteTime": {
     "end_time": "2024-05-11T10:43:07.927975Z",
     "start_time": "2024-05-11T10:43:07.923005Z"
    }
   },
   "outputs": [
    {
     "name": "stdout",
     "output_type": "stream",
     "text": [
      "The 95% confidence intervals for the mean response at x* = [1.2 4.6] are: (array([14.41313186, 16.82963653]), array([15.14617874, 17.50966513]))\n"
     ]
    }
   ],
   "source": [
    "\n",
    "#Problem 3\n",
    "#6.\n",
    "import numpy as np\n",
    "import scipy.stats as stats\n",
    "\n",
    "# Given lists x and y\n",
    "x = np.array([1.00, 1.13, 1.27, 1.41, 1.55, 1.68, 1.82, 1.96, 2.10, 2.24, 2.37, 2.51, 2.65,\n",
    "     2.79, 2.93, 3.06, 3.20, 3.34, 3.48, 3.62, 3.75, 3.89, 4.03, 4.17, 4.31, 4.44,\n",
    "     4.58, 4.72, 4.86, 5.00])\n",
    "\n",
    "y = np.array([13.26, 14.15, 13.86, 14.81, 15.68, 15.64, 15.58, 15.67, 16.08, 16.36, 16.14, 16.68, 16.00, 15.66, 16.05, 16.22, 16.17, 16.03, 16.69, 15.83, 16.21, 16.13, 16.36, 16.42, 16.92, 16.65, 16.94, 17.47, 18.07, 17.52])\n",
    "\n",
    "# Perform linear regression\n",
    "slope, intercept, r_value, p_value, std_err = stats.linregress(x, y)\n",
    "\n",
    "# Calculate the predicted values\n",
    "y_pred = slope * x + intercept\n",
    "\n",
    "# Calculate the residuals\n",
    "residuals = y - y_pred\n",
    "\n",
    "# Calculate the mean squared error (MSE)\n",
    "MSE = np.mean(residuals**2)\n",
    "\n",
    "# Calculate the mean of x\n",
    "x_mean = np.mean(x)\n",
    "\n",
    "# Calculate the sum of squares of x\n",
    "x_SS = np.sum((x - x_mean)**2)\n",
    "\n",
    "# Points at which we want to estimate the response\n",
    "x_star = np.array([1.2, 4.6])\n",
    "\n",
    "# Calculate the predicted responses at x_star\n",
    "y_star = slope * x_star + intercept\n",
    "\n",
    "# Calculate the standard errors of the mean response at x_star\n",
    "SE_star = np.sqrt(MSE * (1/len(x) + (x_star - x_mean)**2 / x_SS))\n",
    "\n",
    "# Calculate the t critical value for 95% confidence level\n",
    "t_critical = stats.t.ppf((1 + 0.95) / 2., len(x) - 2)\n",
    "\n",
    "# Calculate the confidence intervals for the mean response at x_star\n",
    "CI_star = y_star - t_critical * SE_star, y_star + t_critical * SE_star\n",
    "\n",
    "print(f\"The 95% confidence intervals for the mean response at x* = {x_star} are: {CI_star}\")"
   ]
  },
  {
   "cell_type": "code",
   "execution_count": 2,
   "id": "d17b941ca350ffa7",
   "metadata": {
    "jupyter": {
     "is_executing": true
    }
   },
   "outputs": [
    {
     "name": "stdout",
     "output_type": "stream",
     "text": [
      "14\n",
      "Neutral mean:  0.5714285714285714\n",
      "Neutral std:  0.7034898429854362\n",
      "17\n",
      "Sad mean:  2.1176470588235294\n",
      "Sad std:  1.2069579134519526\n"
     ]
    }
   ],
   "source": [
    "#HW8 problem 1\n",
    "\n",
    "\n",
    "import numpy as np\n",
    "\n",
    "\n",
    "neutral = [0, 2, 0, 1, 0.5, 0, 0.5, 2, 1, 0, 0, 0, 0, 1]\n",
    "sad = [3, 4, 0.5, 1, 2.5, 2, 1.5, 0, 1, 1.5, 1.5, 2.5, 4, 3, 3.5, 1, 3.5]\n",
    "\n",
    "mean_nt = np.mean(neutral)\n",
    "std_nt = np.std(neutral)\n",
    "print(len(neutral))\n",
    "print(\"Neutral mean: \", mean_nt)\n",
    "print(\"Neutral std: \", std_nt)\n",
    "mean_sad = np.mean(sad)\n",
    "std_sad = np.std(sad)\n",
    "print(len(sad))\n",
    "print(\"Sad mean: \", mean_sad)\n",
    "print(\"Sad std: \", std_sad)"
   ]
  },
  {
   "cell_type": "code",
   "execution_count": null,
   "id": "2b6640a7469bb6d7",
   "metadata": {},
   "outputs": [],
   "source": []
  }
 ],
 "metadata": {
  "kernelspec": {
   "display_name": "Python 3 (ipykernel)",
   "language": "python",
   "name": "python3"
  },
  "language_info": {
   "codemirror_mode": {
    "name": "ipython",
    "version": 3
   },
   "file_extension": ".py",
   "mimetype": "text/x-python",
   "name": "python",
   "nbconvert_exporter": "python",
   "pygments_lexer": "ipython3",
   "version": "3.11.5"
  }
 },
 "nbformat": 4,
 "nbformat_minor": 5
}
